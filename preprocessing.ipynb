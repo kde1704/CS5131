{
 "cells": [
  {
   "cell_type": "code",
   "execution_count": 10,
   "metadata": {},
   "outputs": [],
   "source": [
    "from lexer import lex\n",
    "import h5py\n",
    "import numpy as np\n",
    "from sklearn.preprocessing import LabelEncoder"
   ]
  },
  {
   "cell_type": "markdown",
   "metadata": {},
   "source": [
    "##### **Examination of Dataset**"
   ]
  },
  {
   "cell_type": "code",
   "execution_count": 3,
   "metadata": {},
   "outputs": [
    {
     "name": "stdout",
     "output_type": "stream",
     "text": [
      " /\n",
      "   - /CWE-119\n",
      "   - /CWE-120\n",
      "   - /CWE-469\n",
      "   - /CWE-476\n",
      "   - /CWE-other\n",
      "   - /functionSource\n"
     ]
    }
   ],
   "source": [
    "scan_hdf5('VDISC_dataset/VDISC_train.hdf5')"
   ]
  },
  {
   "cell_type": "markdown",
   "metadata": {},
   "source": [
    "##### **Lexing functionSource**"
   ]
  },
  {
   "cell_type": "code",
   "execution_count": 4,
   "metadata": {},
   "outputs": [],
   "source": [
    "ds_paths = [\n",
    "    'VDISC_dataset/VDISC_test.hdf5',\n",
    "    'VDISC_dataset/VDISC_train.hdf5',\n",
    "    'VDISC_dataset/VDISC_validate.hdf5'\n",
    "]"
   ]
  },
  {
   "cell_type": "code",
   "execution_count": 5,
   "metadata": {},
   "outputs": [],
   "source": [
    "raw_src_array = {}\n",
    "\n",
    "for path in ds_paths:\n",
    "   with h5py.File(path, 'r') as f:\n",
    "      data = f['functionSource']\n",
    "      raw_src_array[path] = np.array(data)"
   ]
  },
  {
   "cell_type": "code",
   "execution_count": 11,
   "metadata": {},
   "outputs": [],
   "source": [
    "lexed_array = {}\n",
    "le = LabelEncoder()\n",
    "\n",
    "for ds_path, array in raw_src_array.items():\n",
    "    ar = []\n",
    "    for src in array:\n",
    "        lstr = lex(str(src, 'utf-8'))\n",
    "        le.fit(lstr)\n",
    "        ar.append(le.transform(lstr))\n",
    "    \n",
    "    lexed_array[ds_path] = ar"
   ]
  },
  {
   "cell_type": "code",
   "execution_count": 12,
   "metadata": {},
   "outputs": [
    {
     "name": "stdout",
     "output_type": "stream",
     "text": [
      "[19  1 19  3 19  7 19  3 19  2 31 24  3 19 17 28 19  7 19  7 19 17 29  1\n",
      " 19  9 19  2 31 23 19 16 27  1 19  9 19 10 19 10 19  2 19  1 19  9 19 10\n",
      " 19 10 19  2 17 27  1 19  9 19 10 19 10 19  2 19  1 19  9 19 10 19 10 19\n",
      "  2 17 22 17 23 19 16 19  1 19  9 19  7 12  7 12  7  8 13  7  8 13  7 19\n",
      "  7 19  9 19 10 19  7 19  9 19 10 19  2 17 19  9 19  9 19 20 19 17 19 20\n",
      " 19  9 19 10 19 10 19 17 19 20 19  9 19 10 19  4 19  9 19 17 19 20 19  9\n",
      " 19 10 19  4 19  9 19  4 19  9 19 10 19 10 19 17 26  1 19 20 12 17 19 18\n",
      " 19  9 19 10 19 10 19 17 19  5  7 19  6 19  9 19  9 19  7 19  6 19  9 19\n",
      " 10 19 10 19  4 13  2 19  1 19  9 19  7 19  7 19  7 19  7  8 13  7 19  2\n",
      " 17 27  1 19 21 19 32 19  9 19  2 27  1 19  2 19  1 19  7 19  4 19  9 19\n",
      " 10 19 10 19  3 19  9 19  9 19  7 19  9 19 10 19  4 19  9 19  4 19  9 19\n",
      " 10 19 10 19  4 19  9 19 10 19 10 19  3 19  9 19  9 19  7 13  7 19  9 19\n",
      "  9 19  7 12 30 25 25 25 25 25 25  2 17 22 17 23 19 16 27  1 19  0 19  9\n",
      " 19 10 19  2 31 19 20 14 15 12 17 19  1 19  7 19  9 19 10 19  7 19  9 19\n",
      " 10 19  2 17 33 22 17 23 19 16 19 20  8 13 17 22 17 23 19 16 19 20 12 17\n",
      " 19  1 19  2 17 22 17 23 19 16 19  1 19  9 19  2 17 19 20 19  9 19 10 19\n",
      "  8 19  9 19 10 19  8 19  9 19 17 19 20 19  9 19 10 19  8 19  9 19 10 19\n",
      "  8 19  9 19  8 19  9 19 10 19 10 19 17 19  1 19  7  1 19 11 19  9 19  9\n",
      " 19  2  3 19  9 19 10 19 10 19  4  1 19 11 19  9 19  9 19  2  4 19  9 19\n",
      " 10 19 10 19  8 19  9 19 10 19 10 19  4 13  2 17 19 20 13 17 19 20 12 17\n",
      " 19  1 19  2 17 22 17 33 33]\n"
     ]
    }
   ],
   "source": [
    "print(lexed_array['VDISC_dataset/VDISC_test.hdf5'][0])"
   ]
  },
  {
   "cell_type": "markdown",
   "metadata": {},
   "source": [
    "##### **Export Lexed Arrays into CSV**"
   ]
  },
  {
   "cell_type": "code",
   "execution_count": 14,
   "metadata": {},
   "outputs": [],
   "source": [
    "import os\n",
    "\n",
    "LEXED_PATH = 'lexed_VDISC'\n",
    "if not os.path.exists(LEXED_PATH):\n",
    "    os.makedirs(LEXED_PATH)\n",
    "\n",
    "for ds_path, array in lexed_array.items():\n",
    "    filename = LEXED_PATH + '/' + ds_path.split('/')[1].split('.')[0]\n",
    "    with open(filename, 'w') as f:\n",
    "        for lexed_src in array:\n",
    "            for lexed_token in lexed_src:\n",
    "                f.write(str(lexed_token))\n",
    "                f.write(' ')\n",
    "            f.write('\\n')"
   ]
  },
  {
   "cell_type": "markdown",
   "metadata": {},
   "source": [
    "##### **Export Labels into CSV**"
   ]
  },
  {
   "cell_type": "code",
   "execution_count": 9,
   "metadata": {},
   "outputs": [],
   "source": [
    "categories = ['CWE-119', 'CWE-120', 'CWE-469', 'CWE-476', 'CWE-other']"
   ]
  },
  {
   "cell_type": "code",
   "execution_count": 54,
   "metadata": {},
   "outputs": [],
   "source": [
    "labels_array = {}\n",
    "data = None\n",
    "for path in ds_paths:\n",
    "   truth_table = None\n",
    "   labels = np.array([])\n",
    "   with h5py.File(path, 'r') as f:\n",
    "      for cat in categories:\n",
    "         data = np.array(f[cat])\n",
    "         if truth_table is None:\n",
    "            truth_table = data\n",
    "         else:\n",
    "            truth_table = np.vstack((truth_table, data))\n",
    "\n",
    "   labels = np.argmax(truth_table, axis=0)\n",
    "   false_col = ~truth_table.any(axis=0)\n",
    "   labels += 1\n",
    "   labels[false_col] = -1\n",
    "\n",
    "   labels_array[path] = labels"
   ]
  },
  {
   "cell_type": "code",
   "execution_count": 56,
   "metadata": {},
   "outputs": [],
   "source": [
    "LABELS_PATH = 'labels_VDISC'\n",
    "if not os.path.exists(LABELS_PATH):\n",
    "    os.makedirs(LABELS_PATH)\n",
    "\n",
    "for ds_path, array in labels_array.items():\n",
    "    filename = LABELS_PATH + '/' + ds_path.split('/')[1].split('.')[0]\n",
    "    with open(filename, 'w') as f:\n",
    "        for label in array:\n",
    "            f.write(str(label))\n",
    "            f.write('\\n')"
   ]
  },
  {
   "cell_type": "markdown",
   "metadata": {},
   "source": [
    "##### **Generate Vector Embeddings for Future Feature Extraction**"
   ]
  },
  {
   "cell_type": "markdown",
   "metadata": {},
   "source": [
    "grrrrrrrrrrrrrrrrrrrrrrrrrrrrrrrrrrrr"
   ]
  },
  {
   "cell_type": "markdown",
   "metadata": {},
   "source": [
    "grrrrrrrrrrrrrrrrrrrrrrrrrrrrrrrrrrrr"
   ]
  },
  {
   "cell_type": "markdown",
   "metadata": {},
   "source": [
    "grrrrrrrrrrrrrrrrrrrrrrrrrrrrrrrrrrrr\n"
   ]
  },
  {
   "cell_type": "markdown",
   "metadata": {},
   "source": []
  }
 ],
 "metadata": {
  "kernelspec": {
   "display_name": "env",
   "language": "python",
   "name": "python3"
  },
  "language_info": {
   "codemirror_mode": {
    "name": "ipython",
    "version": 3
   },
   "file_extension": ".py",
   "mimetype": "text/x-python",
   "name": "python",
   "nbconvert_exporter": "python",
   "pygments_lexer": "ipython3",
   "version": "3.9.6"
  }
 },
 "nbformat": 4,
 "nbformat_minor": 2
}
