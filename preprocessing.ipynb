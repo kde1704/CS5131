{
 "cells": [
  {
   "cell_type": "code",
   "execution_count": 15,
   "metadata": {},
   "outputs": [
    {
     "name": "stderr",
     "output_type": "stream",
     "text": [
      "/home/azazo/CS5131/.env/lib/python3.10/site-packages/tqdm/auto.py:21: TqdmWarning: IProgress not found. Please update jupyter and ipywidgets. See https://ipywidgets.readthedocs.io/en/stable/user_install.html\n",
      "  from .autonotebook import tqdm as notebook_tqdm\n"
     ]
    }
   ],
   "source": [
    "from lexer import lex\n",
    "import h5py\n",
    "import numpy as np\n",
    "from tqdm.auto import tqdm"
   ]
  },
  {
   "cell_type": "markdown",
   "metadata": {},
   "source": [
    "##### **Examination of Dataset**"
   ]
  },
  {
   "cell_type": "code",
   "execution_count": 16,
   "metadata": {},
   "outputs": [],
   "source": [
    "# From https://stackoverflow.com/questions/43371438/how-to-inspect-h5-file-in-python\n",
    "def scan_hdf5(path, recursive=True, tab_step=2):\n",
    "    def scan_node(g, tabs=0):\n",
    "        print(' ' * tabs, g.name)\n",
    "        for _, v in g.items():\n",
    "            if isinstance(v, h5py.Dataset):\n",
    "                print(' ' * tabs + ' ' * tab_step + ' -', v.name)\n",
    "            elif isinstance(v, h5py.Group) and recursive:\n",
    "                scan_node(v, tabs=tabs + tab_step)\n",
    "    with h5py.File(path, 'r') as f:\n",
    "        scan_node(f)"
   ]
  },
  {
   "cell_type": "code",
   "execution_count": 4,
   "metadata": {},
   "outputs": [
    {
     "name": "stdout",
     "output_type": "stream",
     "text": [
      " /\n",
      "   - /CWE-119\n",
      "   - /CWE-120\n",
      "   - /CWE-469\n",
      "   - /CWE-476\n",
      "   - /CWE-other\n",
      "   - /functionSource\n"
     ]
    }
   ],
   "source": [
    "scan_hdf5('VDISC_dataset/VDISC_train.hdf5')"
   ]
  },
  {
   "cell_type": "markdown",
   "metadata": {},
   "source": [
    "##### **Lexing functionSource**"
   ]
  },
  {
   "cell_type": "code",
   "execution_count": 17,
   "metadata": {},
   "outputs": [],
   "source": [
    "ds_paths = [\n",
    "    'VDISC_dataset/VDISC_test.hdf5',\n",
    "    'VDISC_dataset/VDISC_train.hdf5',\n",
    "    'VDISC_dataset/VDISC_validate.hdf5'\n",
    "]"
   ]
  },
  {
   "cell_type": "code",
   "execution_count": 18,
   "metadata": {},
   "outputs": [],
   "source": [
    "raw_src_array = {}\n",
    "\n",
    "for path in ds_paths:\n",
    "   with h5py.File(path, 'r') as f:\n",
    "      data = f['functionSource']\n",
    "      raw_src_array[path] = np.array(data)"
   ]
  },
  {
   "cell_type": "code",
   "execution_count": 19,
   "metadata": {},
   "outputs": [
    {
     "name": "stderr",
     "output_type": "stream",
     "text": [
      "  0%|          | 0/127419 [00:00<?, ?it/s]"
     ]
    },
    {
     "name": "stderr",
     "output_type": "stream",
     "text": [
      "100%|██████████| 127419/127419 [00:20<00:00, 6124.80it/s]\n",
      " 72%|███████▏  | 733842/1019471 [05:46<02:14, 2118.76it/s]  \n"
     ]
    }
   ],
   "source": [
    "lexed_array = {}\n",
    "\n",
    "for ds_path, array in raw_src_array.items():\n",
    "    ar = []\n",
    "    for src in array:\n",
    "        ar.append(lex(str(src, 'utf-8')))\n",
    "    lexed_array[ds_path] = ar"
   ]
  },
  {
   "cell_type": "code",
   "execution_count": 20,
   "metadata": {},
   "outputs": [
    {
     "name": "stdout",
     "output_type": "stream",
     "text": [
      "['<|ident|>', '(', '<|ident|>', '*', '<|ident|>', ',', '<|ident|>', '*', '<|ident|>', ')', '{', 'char', '*', '<|ident|>', ';', 'int', '<|ident|>', ',', '<|ident|>', ',', '<|ident|>', ';', 'switch', '(', '<|ident|>', '->', '<|ident|>', ')', '{', 'case', '<|ident|>', ':', 'if', '(', '<|ident|>', '->', '<|ident|>', '.', '<|ident|>', '.', '<|ident|>', ')', '<|ident|>', '(', '<|ident|>', '->', '<|ident|>', '.', '<|ident|>', '.', '<|ident|>', ')', ';', 'if', '(', '<|ident|>', '->', '<|ident|>', '.', '<|ident|>', '.', '<|ident|>', ')', '<|ident|>', '(', '<|ident|>', '->', '<|ident|>', '.', '<|ident|>', '.', '<|ident|>', ')', ';', 'break', ';', 'case', '<|ident|>', ':', '<|ident|>', '(', '<|ident|>', '->', '<|ident|>', ',', '0', ',', '0', ',', '-', '1', ',', '-', '1', ',', '<|ident|>', ',', '<|ident|>', '->', '<|ident|>', '.', '<|ident|>', ',', '<|ident|>', '->', '<|ident|>', '.', '<|ident|>', ')', ';', '<|ident|>', '->', '<|ident|>', '->', '<|ident|>', '=', '<|ident|>', ';', '<|ident|>', '=', '<|ident|>', '->', '<|ident|>', '.', '<|ident|>', '.', '<|ident|>', ';', '<|ident|>', '=', '<|ident|>', '->', '<|ident|>', '.', '<|ident|>', '+', '<|ident|>', '->', '<|ident|>', ';', '<|ident|>', '=', '<|ident|>', '->', '<|ident|>', '.', '<|ident|>', '+', '<|ident|>', '->', '<|ident|>', '+', '<|ident|>', '->', '<|ident|>', '.', '<|ident|>', '.', '<|ident|>', ';', 'for', '(', '<|ident|>', '=', '0', ';', '<|ident|>', '<', '<|ident|>', '->', '<|ident|>', '.', '<|ident|>', '.', '<|ident|>', ';', '<|ident|>', '++', ',', '<|ident|>', '+=', '<|ident|>', '->', '<|ident|>', '->', '<|ident|>', ',', '<|ident|>', '+=', '<|ident|>', '->', '<|ident|>', '.', '<|ident|>', '.', '<|ident|>', '+', '1', ')', '<|ident|>', '(', '<|ident|>', '->', '<|ident|>', ',', '<|ident|>', ',', '<|ident|>', ',', '<|ident|>', ',', '-', '1', ',', '<|ident|>', ')', ';', 'if', '(', '<|ident|>', '==', '<|ident|>', '||', '<|ident|>', '->', '<|ident|>', ')', 'if', '(', '<|ident|>', ')', '<|ident|>', '(', '<|ident|>', ',', '<|ident|>', '+', '<|ident|>', '->', '<|ident|>', '.', '<|ident|>', '.', '<|ident|>', '*', '<|ident|>', '->', '<|ident|>', '->', '<|ident|>', ',', '<|ident|>', '->', '<|ident|>', '.', '<|ident|>', '+', '<|ident|>', '->', '<|ident|>', '+', '<|ident|>', '->', '<|ident|>', '.', '<|ident|>', '.', '<|ident|>', '+', '<|ident|>', '->', '<|ident|>', '.', '<|ident|>', '.', '<|ident|>', '*', '<|ident|>', '->', '<|ident|>', '->', '<|ident|>', ',', '1', ',', '<|ident|>', '->', '<|ident|>', '->', '<|ident|>', ',', '0', 'x', 'f', 'f', 'f', 'f', 'f', 'f', ')', ';', 'break', ';', 'case', '<|ident|>', ':', 'if', '(', '<|ident|>', '!=', '<|ident|>', '->', '<|ident|>', '.', '<|ident|>', ')', '{', '<|ident|>', '=', '2', '5', '0', ';', '<|ident|>', '(', '<|ident|>', ',', '<|ident|>', '->', '<|ident|>', '.', '<|ident|>', ',', '<|ident|>', '->', '<|ident|>', '.', '<|ident|>', ')', ';', '}', 'break', ';', 'case', '<|ident|>', ':', '<|ident|>', '=', '-', '1', ';', 'break', ';', 'case', '<|ident|>', ':', '<|ident|>', '=', '0', ';', '<|ident|>', '(', '<|ident|>', ')', ';', 'break', ';', 'case', '<|ident|>', ':', '<|ident|>', '(', '<|ident|>', '->', '<|ident|>', ')', ';', '<|ident|>', '=', '<|ident|>', '->', '<|ident|>', '.', '<|ident|>', '-', '<|ident|>', '->', '<|ident|>', '.', '<|ident|>', '-', '<|ident|>', '->', '<|ident|>', ';', '<|ident|>', '=', '<|ident|>', '->', '<|ident|>', '.', '<|ident|>', '-', '<|ident|>', '->', '<|ident|>', '.', '<|ident|>', '-', '<|ident|>', '->', '<|ident|>', '-', '<|ident|>', '->', '<|ident|>', '.', '<|ident|>', '.', '<|ident|>', ';', '<|ident|>', '(', '<|ident|>', ',', '(', '<|ident|>', '/', '<|ident|>', '->', '<|ident|>', '->', '<|ident|>', ')', '*', '<|ident|>', '->', '<|ident|>', '.', '<|ident|>', '.', '<|ident|>', '+', '(', '<|ident|>', '/', '<|ident|>', '->', '<|ident|>', '->', '<|ident|>', ')', '+', '<|ident|>', '->', '<|ident|>', '.', '<|ident|>', '.', '<|ident|>', '-', '<|ident|>', '->', '<|ident|>', '.', '<|ident|>', '.', '<|ident|>', '+', '1', ')', ';', '<|ident|>', '=', '1', ';', '<|ident|>', '=', '0', ';', '<|ident|>', '(', '<|ident|>', ')', ';', 'break', ';', '}', '}']\n"
     ]
    }
   ],
   "source": [
    "print(lexed_array['VDISC_dataset/VDISC_test.hdf5'][0])"
   ]
  },
  {
   "cell_type": "markdown",
   "metadata": {},
   "source": [
    "##### **Export Lexed Arrays into CSV**"
   ]
  },
  {
   "cell_type": "code",
   "execution_count": 14,
   "metadata": {},
   "outputs": [],
   "source": [
    "import os\n",
    "\n",
    "LEXED_PATH = 'lexed_VDISC'\n",
    "if not os.path.exists(LEXED_PATH):\n",
    "    os.makedirs(LEXED_PATH)\n",
    "\n",
    "for ds_path, array in lexed_array.items():\n",
    "    filename = LEXED_PATH + '/' + ds_path.split('/')[1].split('.')[0]\n",
    "    with open(filename, 'w') as f:\n",
    "        for lexed_src in array:\n",
    "            for lexed_token in lexed_src:\n",
    "                f.write(str(lexed_token))\n",
    "                f.write(' ')\n",
    "            f.write('\\n')"
   ]
  },
  {
   "cell_type": "markdown",
   "metadata": {},
   "source": [
    "##### **Export Labels into CSV**"
   ]
  },
  {
   "cell_type": "code",
   "execution_count": 9,
   "metadata": {},
   "outputs": [],
   "source": [
    "categories = ['CWE-119', 'CWE-120', 'CWE-469', 'CWE-476', 'CWE-other']"
   ]
  },
  {
   "cell_type": "code",
   "execution_count": 54,
   "metadata": {},
   "outputs": [],
   "source": [
    "labels_array = {}\n",
    "data = None\n",
    "for path in ds_paths:\n",
    "   truth_table = None\n",
    "   labels = np.array([])\n",
    "   with h5py.File(path, 'r') as f:\n",
    "      for cat in categories:\n",
    "         data = np.array(f[cat])\n",
    "         if truth_table is None:\n",
    "            truth_table = data\n",
    "         else:\n",
    "            truth_table = np.vstack((truth_table, data))\n",
    "\n",
    "   labels = np.argmax(truth_table, axis=0)\n",
    "   false_col = ~truth_table.any(axis=0)\n",
    "   labels += 1\n",
    "   labels[false_col] = -1\n",
    "\n",
    "   labels_array[path] = labels"
   ]
  },
  {
   "cell_type": "code",
   "execution_count": 56,
   "metadata": {},
   "outputs": [],
   "source": [
    "LABELS_PATH = 'labels_VDISC'\n",
    "if not os.path.exists(LABELS_PATH):\n",
    "    os.makedirs(LABELS_PATH)\n",
    "\n",
    "for ds_path, array in labels_array.items():\n",
    "    filename = LABELS_PATH + '/' + ds_path.split('/')[1].split('.')[0]\n",
    "    with open(filename, 'w') as f:\n",
    "        for label in array:\n",
    "            f.write(str(label))\n",
    "            f.write('\\n')"
   ]
  },
  {
   "cell_type": "markdown",
   "metadata": {},
   "source": [
    "##### **Generate Vector Embeddings for Future Feature Extraction**"
   ]
  },
  {
   "cell_type": "markdown",
   "metadata": {},
   "source": [
    "grrrrrrrrrrrrrrrrrrrrrrrrrrrrrrrrrrrr"
   ]
  },
  {
   "cell_type": "markdown",
   "metadata": {},
   "source": [
    "grrrrrrrrrrrrrrrrrrrrrrrrrrrrrrrrrrrr"
   ]
  },
  {
   "cell_type": "markdown",
   "metadata": {},
   "source": [
    "grrrrrrrrrrrrrrrrrrrrrrrrrrrrrrrrrrrr\n"
   ]
  },
  {
   "cell_type": "markdown",
   "metadata": {},
   "source": []
  }
 ],
 "metadata": {
  "kernelspec": {
   "display_name": "env",
   "language": "python",
   "name": "python3"
  },
  "language_info": {
   "codemirror_mode": {
    "name": "ipython",
    "version": 3
   },
   "file_extension": ".py",
   "mimetype": "text/x-python",
   "name": "python",
   "nbconvert_exporter": "python",
   "pygments_lexer": "ipython3",
   "version": "3.9.6"
  }
 },
 "nbformat": 4,
 "nbformat_minor": 2
}
