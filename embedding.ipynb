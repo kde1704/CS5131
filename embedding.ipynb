{
 "cells": [
  {
   "cell_type": "code",
   "execution_count": 2,
   "metadata": {},
   "outputs": [
    {
     "name": "stderr",
     "output_type": "stream",
     "text": [
      "/usr/lib/python3/dist-packages/scipy/__init__.py:146: UserWarning: A NumPy version >=1.17.3 and <1.25.0 is required for this version of SciPy (detected version 1.26.4\n",
      "  warnings.warn(f\"A NumPy version >={np_minversion} and <{np_maxversion}\"\n",
      "/home/azazo/.local/lib/python3.10/site-packages/tqdm/auto.py:21: TqdmWarning: IProgress not found. Please update jupyter and ipywidgets. See https://ipywidgets.readthedocs.io/en/stable/user_install.html\n",
      "  from .autonotebook import tqdm as notebook_tqdm\n"
     ]
    }
   ],
   "source": [
    "from gensim.models import Word2Vec\n",
    "from tqdm.auto import tqdm\n",
    "import pandas as pd\n",
    "\n",
    "tqdm.pandas()"
   ]
  },
  {
   "cell_type": "code",
   "execution_count": 3,
   "metadata": {},
   "outputs": [
    {
     "name": "stderr",
     "output_type": "stream",
     "text": [
      "100%|██████████| 127419/127419 [00:01<00:00, 79383.91it/s]\n"
     ]
    }
   ],
   "source": [
    "test = []\n",
    "# train = []\n",
    "# validate = []\n",
    "\n",
    "with open(\"lexed_VDISC/VDISC_test\", \"r\") as f:\n",
    "    for line in tqdm(f.readlines()):\n",
    "        test.append(line.split(\" \"))\n",
    "\n",
    "# with open(\"lexed_VDISC/VDISC_train\", \"r\") as f:\n",
    "#     for line in tqdm(f.readlines()):\n",
    "#         train.append(line.split(\" \"))\n",
    "\n",
    "# with open(\"lexed_VDISC/VDISC_validate\", \"r\") as f:\n",
    "#     for line in tqdm(f.readlines()):\n",
    "#         validate.append(line.split(\" \"))"
   ]
  },
  {
   "cell_type": "code",
   "execution_count": 4,
   "metadata": {},
   "outputs": [],
   "source": [
    "df = pd.DataFrame(test)\n",
    "df.head()\n",
    "del test"
   ]
  },
  {
   "cell_type": "code",
   "execution_count": 5,
   "metadata": {},
   "outputs": [],
   "source": [
    "df.fillna(\"<|na|>\", inplace=True)"
   ]
  },
  {
   "cell_type": "code",
   "execution_count": 8,
   "metadata": {},
   "outputs": [
    {
     "data": {
      "text/html": [
       "<div>\n",
       "<style scoped>\n",
       "    .dataframe tbody tr th:only-of-type {\n",
       "        vertical-align: middle;\n",
       "    }\n",
       "\n",
       "    .dataframe tbody tr th {\n",
       "        vertical-align: top;\n",
       "    }\n",
       "\n",
       "    .dataframe thead th {\n",
       "        text-align: right;\n",
       "    }\n",
       "</style>\n",
       "<table border=\"1\" class=\"dataframe\">\n",
       "  <thead>\n",
       "    <tr style=\"text-align: right;\">\n",
       "      <th></th>\n",
       "      <th>0</th>\n",
       "      <th>1</th>\n",
       "      <th>2</th>\n",
       "      <th>3</th>\n",
       "      <th>4</th>\n",
       "      <th>5</th>\n",
       "      <th>6</th>\n",
       "      <th>7</th>\n",
       "      <th>8</th>\n",
       "      <th>9</th>\n",
       "      <th>...</th>\n",
       "      <th>811</th>\n",
       "      <th>812</th>\n",
       "      <th>813</th>\n",
       "      <th>814</th>\n",
       "      <th>815</th>\n",
       "      <th>816</th>\n",
       "      <th>817</th>\n",
       "      <th>818</th>\n",
       "      <th>819</th>\n",
       "      <th>820</th>\n",
       "    </tr>\n",
       "  </thead>\n",
       "  <tbody>\n",
       "    <tr>\n",
       "      <th>0</th>\n",
       "      <td>&lt;|ident|&gt;</td>\n",
       "      <td>(</td>\n",
       "      <td>&lt;|ident|&gt;</td>\n",
       "      <td>*</td>\n",
       "      <td>&lt;|ident|&gt;</td>\n",
       "      <td>,</td>\n",
       "      <td>&lt;|ident|&gt;</td>\n",
       "      <td>*</td>\n",
       "      <td>&lt;|ident|&gt;</td>\n",
       "      <td>)</td>\n",
       "      <td>...</td>\n",
       "      <td>&lt;|na|&gt;</td>\n",
       "      <td>&lt;|na|&gt;</td>\n",
       "      <td>&lt;|na|&gt;</td>\n",
       "      <td>&lt;|na|&gt;</td>\n",
       "      <td>&lt;|na|&gt;</td>\n",
       "      <td>&lt;|na|&gt;</td>\n",
       "      <td>&lt;|na|&gt;</td>\n",
       "      <td>&lt;|na|&gt;</td>\n",
       "      <td>&lt;|na|&gt;</td>\n",
       "      <td>&lt;|na|&gt;</td>\n",
       "    </tr>\n",
       "    <tr>\n",
       "      <th>1</th>\n",
       "      <td>&lt;|ident|&gt;</td>\n",
       "      <td>(</td>\n",
       "      <td>&lt;|ident|&gt;</td>\n",
       "      <td>&lt;|ident|&gt;</td>\n",
       "      <td>,</td>\n",
       "      <td>const</td>\n",
       "      <td>char</td>\n",
       "      <td>*</td>\n",
       "      <td>&lt;|ident|&gt;</td>\n",
       "      <td>,</td>\n",
       "      <td>...</td>\n",
       "      <td>&lt;|na|&gt;</td>\n",
       "      <td>&lt;|na|&gt;</td>\n",
       "      <td>&lt;|na|&gt;</td>\n",
       "      <td>&lt;|na|&gt;</td>\n",
       "      <td>&lt;|na|&gt;</td>\n",
       "      <td>&lt;|na|&gt;</td>\n",
       "      <td>&lt;|na|&gt;</td>\n",
       "      <td>&lt;|na|&gt;</td>\n",
       "      <td>&lt;|na|&gt;</td>\n",
       "      <td>&lt;|na|&gt;</td>\n",
       "    </tr>\n",
       "    <tr>\n",
       "      <th>2</th>\n",
       "      <td>&lt;|ident|&gt;</td>\n",
       "      <td>(</td>\n",
       "      <td>&lt;|ident|&gt;</td>\n",
       "      <td>&lt;|ident|&gt;</td>\n",
       "      <td>)</td>\n",
       "      <td>{</td>\n",
       "      <td>struct</td>\n",
       "      <td>&lt;|ident|&gt;</td>\n",
       "      <td>*</td>\n",
       "      <td>&lt;|ident|&gt;</td>\n",
       "      <td>...</td>\n",
       "      <td>&lt;|na|&gt;</td>\n",
       "      <td>&lt;|na|&gt;</td>\n",
       "      <td>&lt;|na|&gt;</td>\n",
       "      <td>&lt;|na|&gt;</td>\n",
       "      <td>&lt;|na|&gt;</td>\n",
       "      <td>&lt;|na|&gt;</td>\n",
       "      <td>&lt;|na|&gt;</td>\n",
       "      <td>&lt;|na|&gt;</td>\n",
       "      <td>&lt;|na|&gt;</td>\n",
       "      <td>&lt;|na|&gt;</td>\n",
       "    </tr>\n",
       "    <tr>\n",
       "      <th>3</th>\n",
       "      <td>&lt;|ident|&gt;</td>\n",
       "      <td>(</td>\n",
       "      <td>char</td>\n",
       "      <td>*</td>\n",
       "      <td>&amp;</td>\n",
       "      <td>&lt;|ident|&gt;</td>\n",
       "      <td>,</td>\n",
       "      <td>const</td>\n",
       "      <td>&lt;|ident|&gt;</td>\n",
       "      <td>&amp;</td>\n",
       "      <td>...</td>\n",
       "      <td>&lt;|na|&gt;</td>\n",
       "      <td>&lt;|na|&gt;</td>\n",
       "      <td>&lt;|na|&gt;</td>\n",
       "      <td>&lt;|na|&gt;</td>\n",
       "      <td>&lt;|na|&gt;</td>\n",
       "      <td>&lt;|na|&gt;</td>\n",
       "      <td>&lt;|na|&gt;</td>\n",
       "      <td>&lt;|na|&gt;</td>\n",
       "      <td>&lt;|na|&gt;</td>\n",
       "      <td>&lt;|na|&gt;</td>\n",
       "    </tr>\n",
       "    <tr>\n",
       "      <th>4</th>\n",
       "      <td>&lt;|ident|&gt;</td>\n",
       "      <td>(</td>\n",
       "      <td>&lt;|ident|&gt;</td>\n",
       "      <td>*</td>\n",
       "      <td>&lt;|ident|&gt;</td>\n",
       "      <td>)</td>\n",
       "      <td>{</td>\n",
       "      <td>&lt;|ident|&gt;</td>\n",
       "      <td>(</td>\n",
       "      <td>&lt;|ident|&gt;</td>\n",
       "      <td>...</td>\n",
       "      <td>&lt;|na|&gt;</td>\n",
       "      <td>&lt;|na|&gt;</td>\n",
       "      <td>&lt;|na|&gt;</td>\n",
       "      <td>&lt;|na|&gt;</td>\n",
       "      <td>&lt;|na|&gt;</td>\n",
       "      <td>&lt;|na|&gt;</td>\n",
       "      <td>&lt;|na|&gt;</td>\n",
       "      <td>&lt;|na|&gt;</td>\n",
       "      <td>&lt;|na|&gt;</td>\n",
       "      <td>&lt;|na|&gt;</td>\n",
       "    </tr>\n",
       "  </tbody>\n",
       "</table>\n",
       "<p>5 rows × 821 columns</p>\n",
       "</div>"
      ],
      "text/plain": [
       "         0   1          2          3          4          5          6    \\\n",
       "0  <|ident|>   (  <|ident|>          *  <|ident|>          ,  <|ident|>   \n",
       "1  <|ident|>   (  <|ident|>  <|ident|>          ,      const       char   \n",
       "2  <|ident|>   (  <|ident|>  <|ident|>          )          {     struct   \n",
       "3  <|ident|>   (       char          *          &  <|ident|>          ,   \n",
       "4  <|ident|>   (  <|ident|>          *  <|ident|>          )          {   \n",
       "\n",
       "         7          8          9    ...     811     812     813     814  \\\n",
       "0          *  <|ident|>          )  ...  <|na|>  <|na|>  <|na|>  <|na|>   \n",
       "1          *  <|ident|>          ,  ...  <|na|>  <|na|>  <|na|>  <|na|>   \n",
       "2  <|ident|>          *  <|ident|>  ...  <|na|>  <|na|>  <|na|>  <|na|>   \n",
       "3      const  <|ident|>          &  ...  <|na|>  <|na|>  <|na|>  <|na|>   \n",
       "4  <|ident|>          (  <|ident|>  ...  <|na|>  <|na|>  <|na|>  <|na|>   \n",
       "\n",
       "      815     816     817     818     819     820  \n",
       "0  <|na|>  <|na|>  <|na|>  <|na|>  <|na|>  <|na|>  \n",
       "1  <|na|>  <|na|>  <|na|>  <|na|>  <|na|>  <|na|>  \n",
       "2  <|na|>  <|na|>  <|na|>  <|na|>  <|na|>  <|na|>  \n",
       "3  <|na|>  <|na|>  <|na|>  <|na|>  <|na|>  <|na|>  \n",
       "4  <|na|>  <|na|>  <|na|>  <|na|>  <|na|>  <|na|>  \n",
       "\n",
       "[5 rows x 821 columns]"
      ]
     },
     "execution_count": 8,
     "metadata": {},
     "output_type": "execute_result"
    }
   ],
   "source": [
    "df.head()"
   ]
  },
  {
   "cell_type": "code",
   "execution_count": 6,
   "metadata": {},
   "outputs": [],
   "source": [
    "from gensim.models import Word2Vec\n",
    "import time"
   ]
  },
  {
   "cell_type": "code",
   "execution_count": 10,
   "metadata": {},
   "outputs": [
    {
     "name": "stdout",
     "output_type": "stream",
     "text": [
      "Time taken : 2.64 mins\n"
     ]
    }
   ],
   "source": [
    "start_time = time.time()\n",
    "\n",
    "model = Word2Vec(\n",
    "    sentences=df.to_numpy().tolist(),\n",
    "    sg=1,\n",
    "    window=10,\n",
    "    vector_size=15,\n",
    "    workers=4\n",
    ")\n",
    "\n",
    "print(f\"Time taken : {(time.time() - start_time) / 60:.2f} mins\")"
   ]
  },
  {
   "cell_type": "code",
   "execution_count": 19,
   "metadata": {},
   "outputs": [],
   "source": [
    "model.save(\"embedding.model\")"
   ]
  },
  {
   "cell_type": "code",
   "execution_count": 20,
   "metadata": {},
   "outputs": [
    {
     "data": {
      "text/plain": [
       "array([-0.3031462 ,  0.7860225 ,  0.37754092,  0.12627867,  0.863973  ,\n",
       "       -0.65932864,  0.13275732,  0.5294688 , -0.5844484 , -0.31682068,\n",
       "       -0.08996821, -0.14321947, -0.77822524, -0.0338892 , -0.11858318],\n",
       "      dtype=float32)"
      ]
     },
     "execution_count": 20,
     "metadata": {},
     "output_type": "execute_result"
    }
   ],
   "source": [
    "model.wv[\"0\"]"
   ]
  },
  {
   "cell_type": "code",
   "execution_count": null,
   "metadata": {},
   "outputs": [],
   "source": [
    "from sklearn.decomposition import PCA\n",
    "\n",
    "pca = PCA(n_components=2)\n"
   ]
  }
 ],
 "metadata": {
  "kernelspec": {
   "display_name": "Python 3",
   "language": "python",
   "name": "python3"
  },
  "language_info": {
   "codemirror_mode": {
    "name": "ipython",
    "version": 3
   },
   "file_extension": ".py",
   "mimetype": "text/x-python",
   "name": "python",
   "nbconvert_exporter": "python",
   "pygments_lexer": "ipython3",
   "version": "3.10.12"
  }
 },
 "nbformat": 4,
 "nbformat_minor": 2
}
